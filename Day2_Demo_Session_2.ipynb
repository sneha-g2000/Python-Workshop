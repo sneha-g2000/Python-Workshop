{
  "nbformat": 4,
  "nbformat_minor": 0,
  "metadata": {
    "colab": {
      "name": "Day2 Demo Session 2.ipynb",
      "provenance": [],
      "authorship_tag": "ABX9TyMT0S2itBMRnCxJeWLC+X3+",
      "include_colab_link": true
    },
    "kernelspec": {
      "name": "python3",
      "display_name": "Python 3"
    }
  },
  "cells": [
    {
      "cell_type": "markdown",
      "metadata": {
        "id": "view-in-github",
        "colab_type": "text"
      },
      "source": [
        "<a href=\"https://colab.research.google.com/github/sneha-g2000/Python-Workshop/blob/master/Day2_Demo_Session_2.ipynb\" target=\"_parent\"><img src=\"https://colab.research.google.com/assets/colab-badge.svg\" alt=\"Open In Colab\"/></a>"
      ]
    },
    {
      "cell_type": "code",
      "metadata": {
        "id": "q9rgujwr-EJb",
        "colab_type": "code",
        "colab": {}
      },
      "source": [
        ""
      ],
      "execution_count": null,
      "outputs": []
    },
    {
      "cell_type": "markdown",
      "metadata": {
        "id": "lwz3_UPS-W1b",
        "colab_type": "text"
      },
      "source": [
        "#Removes all elements of dictionary dict"
      ]
    },
    {
      "cell_type": "code",
      "metadata": {
        "id": "OietUA-s-sd4",
        "colab_type": "code",
        "colab": {
          "base_uri": "https://localhost:8080/",
          "height": 50
        },
        "outputId": "16a615f4-1290-40d5-d29f-5c53ca05dcf1"
      },
      "source": [
        "\n",
        "dict = {'Name': 'Zara', 'Age': 7};\n",
        "print(\"Start Len : %d\" %  len(dict))\n",
        "dict.clear()\n",
        "print(\"End Len : %d\" %  len(dict))\n",
        "\n"
      ],
      "execution_count": null,
      "outputs": [
        {
          "output_type": "stream",
          "text": [
            "Start Len : 2\n",
            "End Len : 0\n"
          ],
          "name": "stdout"
        }
      ]
    },
    {
      "cell_type": "markdown",
      "metadata": {
        "id": "73cWjuRj--YO",
        "colab_type": "text"
      },
      "source": [
        "#dict.items()\n",
        "#Returns a list of dict's (key, value) tuple pairs\n",
        "\n"
      ]
    },
    {
      "cell_type": "code",
      "metadata": {
        "id": "MemCrhhf_SnH",
        "colab_type": "code",
        "colab": {
          "base_uri": "https://localhost:8080/",
          "height": 34
        },
        "outputId": "b49a5090-e95c-48ab-9a83-b9a0f178fbea"
      },
      "source": [
        "dict = {'Name': 'Zara', 'Age': 7}\n",
        "print (\"Value : %s\" %  dict.items())\n"
      ],
      "execution_count": null,
      "outputs": [
        {
          "output_type": "stream",
          "text": [
            "Value : dict_items([('Name', 'Zara'), ('Age', 7)])\n"
          ],
          "name": "stdout"
        }
      ]
    },
    {
      "cell_type": "markdown",
      "metadata": {
        "id": "4qQ02VKy_XrY",
        "colab_type": "text"
      },
      "source": [
        "# dict.copy()\n",
        "#Returns a copy of dictionary dict\n",
        "\n"
      ]
    },
    {
      "cell_type": "code",
      "metadata": {
        "id": "uU8Ijg06_djo",
        "colab_type": "code",
        "colab": {
          "base_uri": "https://localhost:8080/",
          "height": 34
        },
        "outputId": "ad9a1827-7e79-4aeb-b1bd-54c954e7b506"
      },
      "source": [
        "dict1 = {'Name': 'Zara', 'Age': 7};\n",
        "dict2 = dict1.copy()\n",
        "print (\"New Dictinary : %s\" %  str(dict2))\n"
      ],
      "execution_count": null,
      "outputs": [
        {
          "output_type": "stream",
          "text": [
            "New Dictinary : {'Name': 'Zara', 'Age': 7}\n"
          ],
          "name": "stdout"
        }
      ]
    },
    {
      "cell_type": "markdown",
      "metadata": {
        "id": "P0NbyUcV_mtw",
        "colab_type": "text"
      },
      "source": [
        "Python Program to Generate a Dictionary that Contains Numbers (between 1 and n) in the Form (x,x*x). "
      ]
    },
    {
      "cell_type": "code",
      "metadata": {
        "id": "CWZfX19f_tfR",
        "colab_type": "code",
        "colab": {
          "base_uri": "https://localhost:8080/",
          "height": 50
        },
        "outputId": "4ce4dfe9-9d17-4e22-b54a-cda3162e77aa"
      },
      "source": [
        "n=int(input(\"Enter a number:\"))\n",
        "d={x:x*x for x in range(1,n+1)}\n",
        "print(d)\n"
      ],
      "execution_count": null,
      "outputs": [
        {
          "output_type": "stream",
          "text": [
            "Enter a number:6\n",
            "{1: 1, 2: 4, 3: 9, 4: 16, 5: 25, 6: 36}\n"
          ],
          "name": "stdout"
        }
      ]
    },
    {
      "cell_type": "markdown",
      "metadata": {
        "id": "NZsLJxVF_7AX",
        "colab_type": "text"
      },
      "source": [
        "Python Program to Sum All the Items in a Dictionary "
      ]
    },
    {
      "cell_type": "code",
      "metadata": {
        "id": "0jXQAZtr_-X3",
        "colab_type": "code",
        "colab": {
          "base_uri": "https://localhost:8080/",
          "height": 50
        },
        "outputId": "a9c1d6ca-e9ce-4ea6-ece7-751aefa1abe8"
      },
      "source": [
        "d={'A':100,'B':540,'C':239}\n",
        "print(\"Total sum of values in the dictionary:\")\n",
        "print(sum(d.values()))\n"
      ],
      "execution_count": null,
      "outputs": [
        {
          "output_type": "stream",
          "text": [
            "Total sum of values in the dictionary:\n",
            "879\n"
          ],
          "name": "stdout"
        }
      ]
    },
    {
      "cell_type": "markdown",
      "metadata": {
        "id": "Qr5UaW9uAEJp",
        "colab_type": "text"
      },
      "source": [
        "Python Program to Remove the Given Key from a Dictionary "
      ]
    },
    {
      "cell_type": "code",
      "metadata": {
        "id": "qnAIAVAvAJth",
        "colab_type": "code",
        "colab": {
          "base_uri": "https://localhost:8080/",
          "height": 101
        },
        "outputId": "2f1d9857-1784-4c78-f512-c1845a7fa0df"
      },
      "source": [
        "d = {'a':1,'b':2,'c':3,'d':4}\n",
        "print(\"Initial dictionary\")\n",
        "print(d)\n",
        "key=input(\"Enter the key to delete(a-d):\")\n",
        "if key in d: \n",
        "    del d[key]\n",
        "else:\n",
        "    print(\"Key not found!\")\n",
        "    exit(0)\n",
        "print(\"Updated dictionary\")\n",
        "print(d)\n"
      ],
      "execution_count": null,
      "outputs": [
        {
          "output_type": "stream",
          "text": [
            "Initial dictionary\n",
            "{'a': 1, 'b': 2, 'c': 3, 'd': 4}\n",
            "Enter the key to delete(a-d):c\n",
            "Updated dictionary\n",
            "{'a': 1, 'b': 2, 'd': 4}\n"
          ],
          "name": "stdout"
        }
      ]
    },
    {
      "cell_type": "markdown",
      "metadata": {
        "id": "qoc8OT1NAUgA",
        "colab_type": "text"
      },
      "source": [
        "Python Program to add name and mark as key->value pair in  a Dictionary and print it."
      ]
    },
    {
      "cell_type": "code",
      "metadata": {
        "id": "i0kSntaIAZgt",
        "colab_type": "code",
        "colab": {
          "base_uri": "https://localhost:8080/",
          "height": 235
        },
        "outputId": "1bcd92f0-eb52-4822-ce20-eb651101b09b"
      },
      "source": [
        "n=int(input(\"Enter no of records\"))\n",
        "d={}\n",
        "for i in range(1,n+1):\n",
        "    name= input(\"Enter name %d\"%(i))\n",
        "    mark=int(input(\"Enter mark %d\"%(i)))\n",
        "    d[name]=mark\n",
        "    print (d)\n"
      ],
      "execution_count": null,
      "outputs": [
        {
          "output_type": "stream",
          "text": [
            "Enter no of records4\n",
            "Enter name 1sneha\n",
            "Enter mark 185\n",
            "{'sneha': 85}\n",
            "Enter name 2sudha\n",
            "Enter mark 2 75\n",
            "{'sneha': 85, 'sudha': 75}\n",
            "Enter name 3ramya\n",
            "Enter mark 3 80\n",
            "{'sneha': 85, 'sudha': 75, 'ramya': 80}\n",
            "Enter name 4kavya\n",
            "Enter mark 478\n",
            "{'sneha': 85, 'sudha': 75, 'ramya': 80, 'kavya': 78}\n"
          ],
          "name": "stdout"
        }
      ]
    },
    {
      "cell_type": "markdown",
      "metadata": {
        "id": "wvE0k35bCstS",
        "colab_type": "text"
      },
      "source": [
        "\n",
        "# Keys and Values example\n"
      ]
    },
    {
      "cell_type": "code",
      "metadata": {
        "id": "2151cfqOC1eo",
        "colab_type": "code",
        "colab": {
          "base_uri": "https://localhost:8080/",
          "height": 487
        },
        "outputId": "e26c99d9-bfe8-43ed-b005-718a2ff34b8a"
      },
      "source": [
        "d={}\n",
        "print (\" The dictionary elements are\")\n",
        "for i in range(1,21):\n",
        "    d[i]=i**2\n",
        "print (d)\n",
        " # To print key and values\n",
        "print (\" Key==> Value are\")\n",
        "for (k,v) in d.items():\t\n",
        "    print(k,\"==>\",v)\n",
        " # To print key only\n",
        "print (\"\\nTo print key only\")\n",
        "for k in d.keys():\t\n",
        "      print(k, end=\" \")\n",
        "  #To print value only\n",
        "print (\"\\nTo print values only\")\n",
        "for v in d.values():\t\n",
        "    print(v, end=\" \")"
      ],
      "execution_count": null,
      "outputs": [
        {
          "output_type": "stream",
          "text": [
            " The dictionary elements are\n",
            "{1: 1, 2: 4, 3: 9, 4: 16, 5: 25, 6: 36, 7: 49, 8: 64, 9: 81, 10: 100, 11: 121, 12: 144, 13: 169, 14: 196, 15: 225, 16: 256, 17: 289, 18: 324, 19: 361, 20: 400}\n",
            " Key==> Value are\n",
            "1 ==> 1\n",
            "2 ==> 4\n",
            "3 ==> 9\n",
            "4 ==> 16\n",
            "5 ==> 25\n",
            "6 ==> 36\n",
            "7 ==> 49\n",
            "8 ==> 64\n",
            "9 ==> 81\n",
            "10 ==> 100\n",
            "11 ==> 121\n",
            "12 ==> 144\n",
            "13 ==> 169\n",
            "14 ==> 196\n",
            "15 ==> 225\n",
            "16 ==> 256\n",
            "17 ==> 289\n",
            "18 ==> 324\n",
            "19 ==> 361\n",
            "20 ==> 400\n",
            "\n",
            "To print key only\n",
            "1 2 3 4 5 6 7 8 9 10 11 12 13 14 15 16 17 18 19 20 \n",
            "To print values only\n",
            "1 4 9 16 25 36 49 64 81 100 121 144 169 196 225 256 289 324 361 400 "
          ],
          "name": "stdout"
        }
      ]
    },
    {
      "cell_type": "markdown",
      "metadata": {
        "id": "NAjpLUk-DAHY",
        "colab_type": "text"
      },
      "source": [
        "Python program to convert 2 digit number  into words"
      ]
    },
    {
      "cell_type": "code",
      "metadata": {
        "id": "73fZziY7DE64",
        "colab_type": "code",
        "colab": {
          "base_uri": "https://localhost:8080/",
          "height": 50
        },
        "outputId": "38337013-448e-41db-97ad-41650aa78a24"
      },
      "source": [
        "d={0:'',1:'one',2:'two',3:'three',4:'four',5:'five',6:'six',7:'seven',8:'eight',9:'nine',\\\n",
        "   10:'ten',11:'eleven',12:'twelve',13:'thirteen',14:'fourteen',15:'fifteen',16:'sixteen',\\\n",
        "   17:'seventeen',18:'eightteen',19:'nineteen',20:'twenty',30:'thirty',40:'fourty',50:'fifty',\\\n",
        "   60:'sixty',70:'seventy',80:'eighty',90:'ninty'}\n",
        "\n",
        "num=int(input(\"Enter the integer between 1 to 99:\"))\n",
        "if (num<=20):\n",
        "      print(d[num])\n",
        "if(num>20 and num<100):\n",
        "        if num%10==0:       \n",
        "            print(d[num])\n",
        "        else:\n",
        "            print(d[num//10*10]+\" \"+d[num%10])\n"
      ],
      "execution_count": null,
      "outputs": [
        {
          "output_type": "stream",
          "text": [
            "Enter the integer between 1 to 99:56\n",
            "fifty six\n"
          ],
          "name": "stdout"
        }
      ]
    },
    {
      "cell_type": "markdown",
      "metadata": {
        "id": "MYb2NBNjDQ-x",
        "colab_type": "text"
      },
      "source": [
        "How to sort a dictionary by values in Python"
      ]
    },
    {
      "cell_type": "code",
      "metadata": {
        "id": "9-moV65aDUz5",
        "colab_type": "code",
        "colab": {
          "base_uri": "https://localhost:8080/",
          "height": 50
        },
        "outputId": "c3212f59-2a4b-4ba8-aa6a-0826841a326a"
      },
      "source": [
        "d = {\"Pierre\": 42, \"Anne\": 33, \"Zoe\": 24}\n",
        "#Use the sorted function and operator module\n",
        "import operator\n",
        "sorted_d = sorted(d.items(), key=operator.itemgetter(1))\n",
        "print(sorted_d)\n",
        "sorted_a= sorted(d.items(), key=operator.itemgetter(1),reverse=True)\n",
        "print(sorted_a)\n",
        "\n"
      ],
      "execution_count": null,
      "outputs": [
        {
          "output_type": "stream",
          "text": [
            "[('Zoe', 24), ('Anne', 33), ('Pierre', 42)]\n",
            "[('Pierre', 42), ('Anne', 33), ('Zoe', 24)]\n"
          ],
          "name": "stdout"
        }
      ]
    },
    {
      "cell_type": "markdown",
      "metadata": {
        "id": "n0r8OyCBDmu5",
        "colab_type": "text"
      },
      "source": [
        "# Python Program to count the number of lines in a text file. "
      ]
    },
    {
      "cell_type": "code",
      "metadata": {
        "id": "tB0bLJVsOziI",
        "colab_type": "code",
        "colab": {
          "base_uri": "https://localhost:8080/",
          "height": 67
        },
        "outputId": "1ecef6a0-4fde-4a6e-882d-1a754d7cf329"
      },
      "source": [
        "from google.colab import drive\n",
        "drive.mount('/content/drive')\n",
        "#Python Program to count the number of lines in a text file. \n",
        "file = '/content/sample_data/file1.txt'\n",
        "num_lines = 0\n",
        "with open(file, 'r') as f:\n",
        " for line in f:\n",
        "  num_lines += 1\n",
        "print(\"Number of lines:\")\n",
        "print(num_lines)\n"
      ],
      "execution_count": null,
      "outputs": [
        {
          "output_type": "stream",
          "text": [
            "Drive already mounted at /content/drive; to attempt to forcibly remount, call drive.mount(\"/content/drive\", force_remount=True).\n",
            "Number of lines:\n",
            "4\n"
          ],
          "name": "stdout"
        }
      ]
    },
    {
      "cell_type": "markdown",
      "metadata": {
        "id": "bFkiU-WAQV4s",
        "colab_type": "text"
      },
      "source": [
        "Python Program to count the number of words in a text file. \n"
      ]
    },
    {
      "cell_type": "code",
      "metadata": {
        "id": "HT4fK0o_TAxi",
        "colab_type": "code",
        "colab": {
          "base_uri": "https://localhost:8080/",
          "height": 67
        },
        "outputId": "f925a606-82e6-4409-d6f8-f5ddce7d6e7e"
      },
      "source": [
        "#Python Program to count the number of lines in a text file. \n",
        "file = '/content/sample_data/file1.txt'\n",
        "num_words = 0\n",
        "with open(file, 'r') as f:\n",
        " for line in f:\n",
        "  words = line.split()\n",
        "print(words)\n",
        "num_words += len(words)\n",
        "print(\"Number of words:\")\n",
        "print(num_words)\n"
      ],
      "execution_count": null,
      "outputs": [
        {
          "output_type": "stream",
          "text": [
            "['from', 'hirekkerur']\n",
            "Number of words:\n",
            "2\n"
          ],
          "name": "stdout"
        }
      ]
    },
    {
      "cell_type": "markdown",
      "metadata": {
        "id": "sEv9IGSrTwSS",
        "colab_type": "text"
      },
      "source": [
        "Python Program to count the occurrences of a word in a text file."
      ]
    },
    {
      "cell_type": "code",
      "metadata": {
        "id": "EgzYbgdQT02Z",
        "colab_type": "code",
        "colab": {
          "base_uri": "https://localhost:8080/",
          "height": 67
        },
        "outputId": "c7d3e55e-224e-4aee-fee5-31f778c46d89"
      },
      "source": [
        "fname = '/content/sample_data/file1.txt'\n",
        "word=input(\"Enter word to be searched:\")\n",
        "k = 0\n",
        "\n",
        "with open(fname, 'r') as f:\n",
        " for line in f:\n",
        "  words = line.split()\n",
        "for i in words:\n",
        " if(i==word):\n",
        "   k=k+1\n",
        "print(\"Occurrences of the word:\")\n",
        "print(k)\n",
        "\n"
      ],
      "execution_count": null,
      "outputs": [
        {
          "output_type": "stream",
          "text": [
            "Enter word to be searched:from\n",
            "Occurrences of the word:\n",
            "1\n"
          ],
          "name": "stdout"
        }
      ]
    },
    {
      "cell_type": "markdown",
      "metadata": {
        "id": "jSi2N46LUdUk",
        "colab_type": "text"
      },
      "source": [
        "Python Program to copy the contents of one file into another. "
      ]
    },
    {
      "cell_type": "code",
      "metadata": {
        "id": "-Gf-aYIbUg-x",
        "colab_type": "code",
        "colab": {}
      },
      "source": [
        "file1 = '/content/sample_data/file1.txt'\n",
        "file2 = '/content/sample_data/file1.txt'\n",
        "\n",
        "with open(file1,'r') as f:\n",
        " with open(file2, \"w\") as f1:\n",
        "  for line in f:\n",
        "   f1.write(line)\n"
      ],
      "execution_count": null,
      "outputs": []
    }
  ]
}