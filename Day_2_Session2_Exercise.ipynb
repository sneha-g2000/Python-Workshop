{
  "nbformat": 4,
  "nbformat_minor": 0,
  "metadata": {
    "colab": {
      "name": "Day 2 Session2 Exercise.ipynb",
      "provenance": [],
      "authorship_tag": "ABX9TyO1bW5HzVqjOroYqE1QeuLL",
      "include_colab_link": true
    },
    "kernelspec": {
      "name": "python3",
      "display_name": "Python 3"
    }
  },
  "cells": [
    {
      "cell_type": "markdown",
      "metadata": {
        "id": "view-in-github",
        "colab_type": "text"
      },
      "source": [
        "<a href=\"https://colab.research.google.com/github/sneha-g2000/Python-Workshop/blob/master/Day_2_Session2_Exercise.ipynb\" target=\"_parent\"><img src=\"https://colab.research.google.com/assets/colab-badge.svg\" alt=\"Open In Colab\"/></a>"
      ]
    },
    {
      "cell_type": "code",
      "metadata": {
        "id": "TlwMHBUDBHTt",
        "colab_type": "code",
        "colab": {}
      },
      "source": [
        ""
      ],
      "execution_count": null,
      "outputs": []
    },
    {
      "cell_type": "markdown",
      "metadata": {
        "id": "jkKdMnGeB5tE",
        "colab_type": "text"
      },
      "source": [
        "1.\tAdd rollno and marks {name:mark} for n number of students through keyboard in a dictionary and print the marks in descending order with respective name.\n",
        "\n"
      ]
    },
    {
      "cell_type": "code",
      "metadata": {
        "id": "NQAZERhLCZ7b",
        "colab_type": "code",
        "colab": {
          "base_uri": "https://localhost:8080/",
          "height": 252
        },
        "outputId": "d7a06965-7672-47e9-85d5-8f075fb769f8"
      },
      "source": [
        "dict={}\n",
        "n=int(input(\"enter the no of students\"))\n",
        "for i in range(n):\n",
        "  name=input(\"Enter the name\")\n",
        "  marks=int(input(\"Enter the marks\"))\n",
        "  dict[name]=marks\n",
        "print(dict)\n",
        "d1=dict.items()\n",
        "sort=sorted(d1,reverse=True);\n",
        "print(\"The sorted dictionary is\")\n",
        "print(sort)"
      ],
      "execution_count": 1,
      "outputs": [
        {
          "output_type": "stream",
          "text": [
            "enter the no of students5\n",
            "Enter the nameusha\n",
            "Enter the marks69\n",
            "Enter the namerakshitha\n",
            "Enter the marks85\n",
            "Enter the nameranjani\n",
            "Enter the marks89\n",
            "Enter the namegopi\n",
            "Enter the marks86\n",
            "Enter the nameradha\n",
            "Enter the marks90\n",
            "{'usha': 69, 'rakshitha': 85, 'ranjani': 89, 'gopi': 86, 'radha': 90}\n",
            "The sorted dictionary is\n",
            "[('usha', 69), ('ranjani', 89), ('rakshitha', 85), ('radha', 90), ('gopi', 86)]\n"
          ],
          "name": "stdout"
        }
      ]
    },
    {
      "cell_type": "markdown",
      "metadata": {
        "id": "GEgYwcOUDJui",
        "colab_type": "text"
      },
      "source": [
        "2.\tAdd  name and salary {name:salary} for n number of employees through keyboard in a dictionary and print them in name alphabetical order with salary\n",
        "\n"
      ]
    },
    {
      "cell_type": "code",
      "metadata": {
        "id": "ZtsedXjrDOYS",
        "colab_type": "code",
        "colab": {
          "base_uri": "https://localhost:8080/",
          "height": 218
        },
        "outputId": "d32bb698-0027-43b3-ac03-6d10b008489b"
      },
      "source": [
        "dict={}\n",
        "n=int(input(\"enter the no of employees\"))\n",
        "for i in range(n):\n",
        "  name=input(\"Enter the name\")\n",
        "  marks=int(input(\"Enter the salary\"))\n",
        "  dict[name]=marks\n",
        "print(dict)\n",
        "d1=dict.items()\n",
        "sort=sorted(d1);\n",
        "print(\"The sorted dictionary is\")\n",
        "print(sort)"
      ],
      "execution_count": 2,
      "outputs": [
        {
          "output_type": "stream",
          "text": [
            "enter the no of employees4\n",
            "Enter the namerama\n",
            "Enter the salary2500\n",
            "Enter the nameRamya\n",
            "Enter the salary3500\n",
            "Enter the nameGeetha\n",
            "Enter the salary3000\n",
            "Enter the nameKavya\n",
            "Enter the salary2000\n",
            "{'rama': 2500, 'Ramya': 3500, 'Geetha': 3000, 'Kavya': 2000}\n",
            "The sorted dictionary is\n",
            "[('Geetha', 3000), ('Kavya', 2000), ('Ramya', 3500), ('rama', 2500)]\n"
          ],
          "name": "stdout"
        }
      ]
    },
    {
      "cell_type": "markdown",
      "metadata": {
        "id": "dvw8hr3YDm_a",
        "colab_type": "text"
      },
      "source": [
        "3.\tAdd  name and salary {name:salary} for n number of employees through keyboard in a dictionary and print them in salary  ascending order and  sum, max, min and average of the salaries"
      ]
    },
    {
      "cell_type": "code",
      "metadata": {
        "id": "NRHAEJuKDtPq",
        "colab_type": "code",
        "colab": {
          "base_uri": "https://localhost:8080/",
          "height": 370
        },
        "outputId": "6ce2acec-d929-447d-e99b-a084d29c7588"
      },
      "source": [
        "import statistics\n",
        "dict={}\n",
        "n=int(input(\"enter the no of employees\"))\n",
        "for i in range(n):\n",
        "  name=input(\"Enter the name\")\n",
        "  marks=int(input(\"Enter the salary\"))\n",
        "  dict[name]=marks\n",
        "print(dict)\n",
        "sort=sorted(dict.items(),key=lambda x:x[1]);\n",
        "print(\"The sorted dictionary is\")\n",
        "print(sort)\n",
        "print(\"The sum is\")\n",
        "print(sum(dict.values()))\n",
        "print(\"the maximum is\")\n",
        "max_val=max(dict,key=dict.get)\n",
        "print(max_val)\n",
        "print(\"the minimum is\")\n",
        "min_val=min(dict,key=dict.get)\n",
        "print(min_val)\n",
        " \n",
        "mean= statistics.mean(dict.values()) \n",
        " \n",
        "print(\"The average of salary is\",mean)"
      ],
      "execution_count": 3,
      "outputs": [
        {
          "output_type": "stream",
          "text": [
            "enter the no of employees5\n",
            "Enter the nameRiya\n",
            "Enter the salary3000\n",
            "Enter the namerita\n",
            "Enter the salary2600\n",
            "Enter the nameramya\n",
            "Enter the salary4500\n",
            "Enter the nameSiri\n",
            "Enter the salary3600\n",
            "Enter the nameGanesh\n",
            "Enter the salary2400\n",
            "{'Riya': 3000, 'rita': 2600, 'ramya': 4500, 'Siri': 3600, 'Ganesh': 2400}\n",
            "The sorted dictionary is\n",
            "[('Ganesh', 2400), ('rita', 2600), ('Riya', 3000), ('Siri', 3600), ('ramya', 4500)]\n",
            "The sum is\n",
            "16100\n",
            "the maximum is\n",
            "ramya\n",
            "the minimum is\n",
            "Ganesh\n",
            "The average of salary is 3220\n"
          ],
          "name": "stdout"
        }
      ]
    },
    {
      "cell_type": "markdown",
      "metadata": {
        "id": "AVVQ6H32ESJr",
        "colab_type": "text"
      },
      "source": [
        "4.\tAdd name and salary {name:salary} for n number of employees through keyboard in a dictionary and print only the employees whose salary is greater than 2000 but less than 4000\n",
        "\n"
      ]
    },
    {
      "cell_type": "code",
      "metadata": {
        "id": "5dL2veQvEV2c",
        "colab_type": "code",
        "colab": {
          "base_uri": "https://localhost:8080/",
          "height": 202
        },
        "outputId": "c392e1c1-d4af-470b-ec3a-cc5b81dcd92a"
      },
      "source": [
        "dict={}\n",
        "n=int(input(\"enter the no of employees\"))\n",
        "for i in range(n):\n",
        "  name=input(\"Enter the name\")\n",
        "  marks=int(input(\"Enter the salary\"))\n",
        "  dict[name]=marks\n",
        "print(dict)\n",
        "res={key:val for key, val in dict.items() if val>2000 and val<4000}\n",
        "print(res)"
      ],
      "execution_count": 4,
      "outputs": [
        {
          "output_type": "stream",
          "text": [
            "enter the no of employees4\n",
            "Enter the nameRavi\n",
            "Enter the salary2800\n",
            "Enter the nameRaja\n",
            "Enter the salary4000\n",
            "Enter the nameTinku\n",
            "Enter the salary3900\n",
            "Enter the namePooja\n",
            "Enter the salary2500\n",
            "{'Ravi': 2800, 'Raja': 4000, 'Tinku': 3900, 'Pooja': 2500}\n",
            "{'Ravi': 2800, 'Tinku': 3900, 'Pooja': 2500}\n"
          ],
          "name": "stdout"
        }
      ]
    },
    {
      "cell_type": "markdown",
      "metadata": {
        "id": "lnTKnwuVEvf7",
        "colab_type": "text"
      },
      "source": [
        "5.\tPython program to convert a 3 digit number  into words\n",
        "\n"
      ]
    },
    {
      "cell_type": "code",
      "metadata": {
        "id": "01eyGCZFEzxT",
        "colab_type": "code",
        "colab": {
          "base_uri": "https://localhost:8080/",
          "height": 50
        },
        "outputId": "91369e06-b1e9-442b-8eeb-5c6647dc27de"
      },
      "source": [
        "d={0:'',1:'one',2:'two',3:'three',4:'four',5:'five',6:'six',7:'seven',8:'eight',9:'nine',\\\n",
        "   10:'ten',11:'eleven',12:'twelve',13:'thirteen',14:'fourteen',15:'fifteen',16:'sixteen',\\\n",
        "   17:'seventeen',18:'eightteen',19:'nineteen',20:'twenty',30:'thirty',40:'fourty',50:'fifty',\\\n",
        "   60:'sixty',70:'seventy',80:'eighty',90:'ninty',100:'hundred',200:'twohundred',300:'threehundred',400:'fourhundred',500:'fivehundred',600:'sixhundred',700:'sevenhundred',800:'eighthundred',900:'ninehundred'}\n",
        "num=int(input(\"Enter the integer between 1 to 999:\"))\n",
        "if (num<=20):\n",
        "      print(d[num])\n",
        "if(num>20 and num<1000):\n",
        "        if num%10==0:       \n",
        "            print(d[num])\n",
        "        else:\n",
        "            print(d[num//10*10]+\" \"+d[num%10])"
      ],
      "execution_count": 5,
      "outputs": [
        {
          "output_type": "stream",
          "text": [
            "Enter the integer between 1 to 999:98\n",
            "ninty eight\n"
          ],
          "name": "stdout"
        }
      ]
    },
    {
      "cell_type": "markdown",
      "metadata": {
        "id": "axpp32vsE8lj",
        "colab_type": "text"
      },
      "source": [
        "Files Exercises\n",
        "1.Python Program to count the total number of charaters (except blank space) in a text file.\n",
        "\n"
      ]
    },
    {
      "cell_type": "code",
      "metadata": {
        "id": "d1oT5Z5fHbxk",
        "colab_type": "code",
        "colab": {
          "base_uri": "https://localhost:8080/",
          "height": 50
        },
        "outputId": "0e982cca-9528-46b7-b0ec-ee5d19223670"
      },
      "source": [
        "fname = input(\"Enter the name of the file:\")\n",
        "infile = open(fname, 'r')\n",
        "lines = 0\n",
        "words = 0\n",
        "characters = 0\n",
        "for line in infile:\n",
        "    wordslist = line.split()\n",
        "    lines = lines + 1\n",
        "    words = words + len(wordslist)\n",
        "    characters = characters + len(line)\n",
        "print(characters)"
      ],
      "execution_count": 7,
      "outputs": [
        {
          "output_type": "stream",
          "text": [
            "Enter the name of the file:/content/file1.txt\n",
            "21\n"
          ],
          "name": "stdout"
        }
      ]
    },
    {
      "cell_type": "markdown",
      "metadata": {
        "id": "5TFLIha8IpAm",
        "colab_type": "text"
      },
      "source": [
        "2.Python Program to print all the numbers present in a text file with its total number of occurrence."
      ]
    },
    {
      "cell_type": "code",
      "metadata": {
        "id": "9yl4uWqgIt_Q",
        "colab_type": "code",
        "colab": {
          "base_uri": "https://localhost:8080/",
          "height": 50
        },
        "outputId": "bfded82b-c520-4e59-d036-58a9b68e486e"
      },
      "source": [
        "fname = input(\"Enter the name of the file:\")\n",
        "infile = open(fname, 'r')\n",
        "content = infile.readlines() \n",
        "a = 0\n",
        "for line in content: \n",
        "    for i in line:  \n",
        "        if i.isdigit() == True: \n",
        "          a=a+1\n",
        "print(\"The total numbers in a text file is:\", a)"
      ],
      "execution_count": 8,
      "outputs": [
        {
          "output_type": "stream",
          "text": [
            "Enter the name of the file:/content/file1.txt\n",
            "The total numbers in a text file is: 0\n"
          ],
          "name": "stdout"
        }
      ]
    },
    {
      "cell_type": "markdown",
      "metadata": {
        "id": "WHUJ42vII7Cs",
        "colab_type": "text"
      },
      "source": [
        "3.Python Program to append the contents of one file to another file "
      ]
    },
    {
      "cell_type": "code",
      "metadata": {
        "id": "OEh6OTlII-Mz",
        "colab_type": "code",
        "colab": {
          "base_uri": "https://localhost:8080/",
          "height": 50
        },
        "outputId": "a783a1b0-e76c-46a6-a8a4-d223f6e9dc6c"
      },
      "source": [
        "name1 = input(\"Enter file to be read from: \")\n",
        "name2 = input(\"Enter file to be appended to: \")\n",
        "fin = open(name1, \"r\")\n",
        "data2 = fin.read()\n",
        "fin.close()\n",
        "fout = open(name2, \"a\")\n",
        "fout.write(data2)\n",
        "fout.close()"
      ],
      "execution_count": 9,
      "outputs": [
        {
          "output_type": "stream",
          "text": [
            "Enter file to be read from: /content/file1.txt\n",
            "Enter file to be appended to: /content/file1.txt\n"
          ],
          "name": "stdout"
        }
      ]
    },
    {
      "cell_type": "markdown",
      "metadata": {
        "id": "c7yxz5vQJG1j",
        "colab_type": "text"
      },
      "source": [
        "4.Python Program to count the number of blank spaces in a text file. "
      ]
    },
    {
      "cell_type": "code",
      "metadata": {
        "id": "ipw2SOFDJKl7",
        "colab_type": "code",
        "colab": {
          "base_uri": "https://localhost:8080/",
          "height": 67
        },
        "outputId": "636749d1-77a3-495b-9520-1a34eac722b3"
      },
      "source": [
        "fname = input(\"Enter file name: \")\n",
        "k = 0\n",
        "\n",
        "with open(fname, 'r') as f:\n",
        "    for line in f:\n",
        "        words = line.split()\n",
        "        for i in words:\n",
        "            for letter in i:\n",
        "                if(letter.isspace):\n",
        "                    k=k+1\n",
        "print(\"Occurrences of blank spaces:\")\n",
        "print(k)"
      ],
      "execution_count": 10,
      "outputs": [
        {
          "output_type": "stream",
          "text": [
            "Enter file name: /content/file1.txt\n",
            "Occurrences of blank spaces:\n",
            "34\n"
          ],
          "name": "stdout"
        }
      ]
    },
    {
      "cell_type": "markdown",
      "metadata": {
        "id": "Wx7TvSRaJUFK",
        "colab_type": "text"
      },
      "source": [
        "Python Program to read a file and capitalize the first letter of every word in the file."
      ]
    },
    {
      "cell_type": "code",
      "metadata": {
        "id": "9_hGvN4yJnfz",
        "colab_type": "code",
        "colab": {
          "base_uri": "https://localhost:8080/",
          "height": 252
        },
        "outputId": "bc5eeb81-77ed-4bfa-ecc2-fc7876939edb"
      },
      "source": [
        "fname = input(\"Enter file name: \")\n",
        "with open(fname, 'r') as f:\n",
        "    for line in f:\n",
        "        l=line.title()\n",
        "        print(l)"
      ],
      "execution_count": 11,
      "outputs": [
        {
          "output_type": "stream",
          "text": [
            "Enter file name: /content/file1.txt\n",
            "I\n",
            "\n",
            "Am\n",
            "\n",
            "Student\n",
            "\n",
            "Of Alvasi\n",
            "\n",
            "Am\n",
            "\n",
            "Student\n",
            "\n",
            "Of Alvas\n"
          ],
          "name": "stdout"
        }
      ]
    }
  ]
}