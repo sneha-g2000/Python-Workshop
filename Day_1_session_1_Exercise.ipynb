{
  "nbformat": 4,
  "nbformat_minor": 0,
  "metadata": {
    "colab": {
      "name": "Day 1 session 1 Exercise.ipynb",
      "provenance": [],
      "authorship_tag": "ABX9TyMEeKYsaJp34oIU5qCxjhYh",
      "include_colab_link": true
    },
    "kernelspec": {
      "name": "python3",
      "display_name": "Python 3"
    }
  },
  "cells": [
    {
      "cell_type": "markdown",
      "metadata": {
        "id": "view-in-github",
        "colab_type": "text"
      },
      "source": [
        "<a href=\"https://colab.research.google.com/github/sneha-g2000/Python-Workshop/blob/master/Day_1_session_1_Exercise.ipynb\" target=\"_parent\"><img src=\"https://colab.research.google.com/assets/colab-badge.svg\" alt=\"Open In Colab\"/></a>"
      ]
    },
    {
      "cell_type": "code",
      "metadata": {
        "id": "LEcTEMr7Z4iz",
        "colab_type": "code",
        "colab": {}
      },
      "source": [
        ""
      ],
      "execution_count": null,
      "outputs": []
    },
    {
      "cell_type": "markdown",
      "metadata": {
        "id": "jfTJDABqcZhQ",
        "colab_type": "text"
      },
      "source": [
        "1.\tFind the compound interest for the given p,n,r  (formula : p(1+n*r/100)n )"
      ]
    },
    {
      "cell_type": "code",
      "metadata": {
        "id": "z0i41j7Hcg8O",
        "colab_type": "code",
        "colab": {
          "base_uri": "https://localhost:8080/",
          "height": 84
        },
        "outputId": "c6f3f6b3-4154-4ffa-a2fa-b0b9fe31dc7b"
      },
      "source": [
        "p=float(input(\"Enter the principal amount\"))\n",
        "n=float(input(\"Enter the value of n time period\"))\n",
        "r=float(input(\"Enter the value of r\"))\n",
        "ci=p*(pow((1+r/100),n))\n",
        "print(\"The compound intrest is\",ci)"
      ],
      "execution_count": 1,
      "outputs": [
        {
          "output_type": "stream",
          "text": [
            "Enter the principal amount1300\n",
            "Enter the value of n time period3\n",
            "Enter the value of r3.5\n",
            "The compound intrest is 1441.3332374999998\n"
          ],
          "name": "stdout"
        }
      ]
    },
    {
      "cell_type": "markdown",
      "metadata": {
        "id": "VVqSzh8kcwX-",
        "colab_type": "text"
      },
      "source": [
        "2.\tConvert centegrade to farenheit  ( f= 9/5*c+32)"
      ]
    },
    {
      "cell_type": "code",
      "metadata": {
        "id": "LGleq5jCc0F9",
        "colab_type": "code",
        "colab": {
          "base_uri": "https://localhost:8080/",
          "height": 50
        },
        "outputId": "b303c624-2a38-4ecb-a672-50cef21cacb6"
      },
      "source": [
        "c=float(input(\"Enter the temperature in centegrade\"))\n",
        "f=((9/5*c)+32)\n",
        "print(\"The fahrenheit value is {0}°F\".format(f))"
      ],
      "execution_count": 2,
      "outputs": [
        {
          "output_type": "stream",
          "text": [
            "Enter the temperature in centegrade0\n",
            "The fahrenheit value is 32.0°F\n"
          ],
          "name": "stdout"
        }
      ]
    },
    {
      "cell_type": "markdown",
      "metadata": {
        "id": "XkU2CaMac_A2",
        "colab_type": "text"
      },
      "source": [
        "3.\tFind the greater of two nos "
      ]
    },
    {
      "cell_type": "code",
      "metadata": {
        "id": "HhThGBmGdFpO",
        "colab_type": "code",
        "colab": {
          "base_uri": "https://localhost:8080/",
          "height": 67
        },
        "outputId": "9dd5bb19-f54c-4e20-d5d3-ccfd6a583a78"
      },
      "source": [
        "a=float(input(\"Enter the value of a\"))\n",
        "b=float(input(\"Enter the value of b\"))\n",
        "if(a>b):\n",
        "  print(\"a is greater\")\n",
        "else:\n",
        "  print(\"b is greater\")"
      ],
      "execution_count": 3,
      "outputs": [
        {
          "output_type": "stream",
          "text": [
            "Enter the value of a20\n",
            "Enter the value of b5\n",
            "a is greater\n"
          ],
          "name": "stdout"
        }
      ]
    },
    {
      "cell_type": "markdown",
      "metadata": {
        "id": "BlWnNaR_dNJf",
        "colab_type": "text"
      },
      "source": [
        "4.\tWrite a program for finding surface areas of cylinder and cone (2*PI*r*r*h, 1/3*PI*r*r*h) using function."
      ]
    },
    {
      "cell_type": "code",
      "metadata": {
        "id": "bcmZKXEadRme",
        "colab_type": "code",
        "colab": {
          "base_uri": "https://localhost:8080/",
          "height": 118
        },
        "outputId": "e6533f83-41f2-4bdd-d8ed-0511fa2aeb12"
      },
      "source": [
        "r1=float(input(\"Enter the radius of the cylinder\"))\n",
        "h1=float(input(\"Enter the height of the cylinder\"))\n",
        "pi=22/7\n",
        "sa=(2*pi*r1*h1)+(2*pi*r1*r1)\n",
        "print(\"The suraface area of the cylinder is\",sa)\n",
        "r2=float(input(\"Enter the radius of cone\"))\n",
        "h2=float(input(\"Enter the height of cone\"))\n",
        "sa1=(1/3*pi*r2*r2*h2)\n",
        "print(\"The surface area of the cone is\",sa1)"
      ],
      "execution_count": 4,
      "outputs": [
        {
          "output_type": "stream",
          "text": [
            "Enter the radius of the cylinder3\n",
            "Enter the height of the cylinder5\n",
            "The suraface area of the cylinder is 150.85714285714286\n",
            "Enter the radius of cone2.5\n",
            "Enter the height of cone3.5\n",
            "The surface area of the cone is 22.916666666666664\n"
          ],
          "name": "stdout"
        }
      ]
    },
    {
      "cell_type": "markdown",
      "metadata": {
        "id": "kXrmQxEkda1u",
        "colab_type": "text"
      },
      "source": [
        "5.\tFind the greatest of four nos ( using ‘and’ operator)   using function"
      ]
    },
    {
      "cell_type": "code",
      "metadata": {
        "id": "bGZKhV-RdgqA",
        "colab_type": "code",
        "colab": {
          "base_uri": "https://localhost:8080/",
          "height": 101
        },
        "outputId": "cd40ccff-21af-4b54-a1bb-1b880746af2a"
      },
      "source": [
        "a=int(input(\"Enter the value of a\"))\n",
        "b=int(input(\"Enter the value of b\"))\n",
        "c=int(input(\"Enter the value of c\"))\n",
        "d=int(input(\"Enter the value of d\"))\n",
        "if((a>b) and (a>c) and (a>c)):\n",
        "  print(\"a is greater\")\n",
        "elif((b>a)and (b>c) and (b>d)):\n",
        "  print(\"b is greater\")\n",
        "elif((c>a)and (c>b) and (c>d)):\n",
        "  print(\"c is greater\")\n",
        "else:\n",
        "  print(\"d is greater\")"
      ],
      "execution_count": 5,
      "outputs": [
        {
          "output_type": "stream",
          "text": [
            "Enter the value of a3\n",
            "Enter the value of b2\n",
            "Enter the value of c7\n",
            "Enter the value of d8\n",
            "d is greater\n"
          ],
          "name": "stdout"
        }
      ]
    },
    {
      "cell_type": "markdown",
      "metadata": {
        "id": "ov-HmucZdtDG",
        "colab_type": "text"
      },
      "source": [
        "6.\tWrite a  menu program to perform the operations ( ODDorEven, Factorial, ODDNoUptoN, PrimeUptoN ) using functions for two nos with  menu choice\n",
        "\n"
      ]
    },
    {
      "cell_type": "code",
      "metadata": {
        "id": "KBcBJSFSdxC2",
        "colab_type": "code",
        "colab": {
          "base_uri": "https://localhost:8080/",
          "height": 1000
        },
        "outputId": "444b98d8-aa49-42ce-d084-23d2206f4146"
      },
      "source": [
        "loop=1\n",
        "choice=0\n",
        "def OddOrEven(n):\n",
        "  if(n%2==0):\n",
        "      print(\"Even\")\n",
        "  else:\n",
        "      print(\"Odd\")\n",
        "\n",
        "def Factorial(n):\n",
        "  fact=1\n",
        "  while(n>0):\n",
        "    fact=fact*n\n",
        "    n=n-1\n",
        "  print(\"Factorial of the number is: \")\n",
        "  print(fact)\n",
        "\n",
        "def oddno(n):\n",
        "  for i in range(1,n):\n",
        "    if(i%2!=0):\n",
        "      print(i)\n",
        "\n",
        "def prime(n):\n",
        "    for num1 in range(1, n + 1):\n",
        "      if num1 > 1:\n",
        "       for i in range(2, num1):\n",
        "           if (num1 % i) == 0:\n",
        "               break\n",
        "       else:\n",
        "           print(num1)\n",
        "    \n",
        "while loop == 1:\n",
        "    print (\"your options are:\")\n",
        "    print (\" \")\n",
        "    print(\"1) ODD or EVEN\")\n",
        "    print(\"2) Factorial\")\n",
        "    print(\"3) Odd number\")\n",
        "    print(\"4) Prime number\")\n",
        "    print(\" \")\n",
        "    try:\n",
        "        choice = int(input(\"Choose your option: \"))\n",
        "    except:\n",
        "        print(\"please enter a valid number for option\")\n",
        "    print(\" \")\n",
        "    print(\" \")\n",
        "    if choice == 1:\n",
        "        n = int(input(\"Enter the  no: \"))\n",
        "        OddOrEven(n)\n",
        "    elif choice == 2:\n",
        "       n = int(input(\"Enter the  no: \"))\n",
        "       Factorial(n)\n",
        "    elif choice == 3:\n",
        "        n = int(input(\"Enter the  no: \"))\n",
        "        oddno(n)\n",
        "    elif choice == 4:\n",
        "        n = int(input(\"Enter the  no: \"))\n",
        "        prime(n)\n",
        "    else:\n",
        "        print(\"please choice a valid option from 1 to 4\")\n",
        "        choice=0"
      ],
      "execution_count": null,
      "outputs": [
        {
          "output_type": "stream",
          "text": [
            "your options are:\n",
            " \n",
            "1) ODD or EVEN\n",
            "2) Factorial\n",
            "3) Odd number\n",
            "4) Prime number\n",
            " \n",
            "Choose your option: 4\n",
            " \n",
            " \n",
            "Enter the  no: 11\n",
            "2\n",
            "3\n",
            "5\n",
            "7\n",
            "11\n",
            "your options are:\n",
            " \n",
            "1) ODD or EVEN\n",
            "2) Factorial\n",
            "3) Odd number\n",
            "4) Prime number\n",
            " \n",
            "Choose your option: 1\n",
            " \n",
            " \n",
            "Enter the  no: 5\n",
            "Odd\n",
            "your options are:\n",
            " \n",
            "1) ODD or EVEN\n",
            "2) Factorial\n",
            "3) Odd number\n",
            "4) Prime number\n",
            " \n",
            "Choose your option: 2\n",
            " \n",
            " \n",
            "Enter the  no: 6\n",
            "Factorial of the number is: \n",
            "720\n",
            "your options are:\n",
            " \n",
            "1) ODD or EVEN\n",
            "2) Factorial\n",
            "3) Odd number\n",
            "4) Prime number\n",
            " \n",
            "Choose your option: 3\n",
            " \n",
            " \n",
            "Enter the  no: 8\n",
            "1\n",
            "3\n",
            "5\n",
            "7\n",
            "your options are:\n",
            " \n",
            "1) ODD or EVEN\n",
            "2) Factorial\n",
            "3) Odd number\n",
            "4) Prime number\n",
            " \n",
            "Choose your option: 5\n",
            " \n",
            " \n",
            "please choice a valid option from 1 to 4\n",
            "your options are:\n",
            " \n",
            "1) ODD or EVEN\n",
            "2) Factorial\n",
            "3) Odd number\n",
            "4) Prime number\n",
            " \n",
            "Choose your option: 4\n",
            " \n",
            " \n",
            "Enter the  no: 4\n",
            "2\n",
            "3\n",
            "your options are:\n",
            " \n",
            "1) ODD or EVEN\n",
            "2) Factorial\n",
            "3) Odd number\n",
            "4) Prime number\n",
            " \n"
          ],
          "name": "stdout"
        }
      ]
    }
  ]
}