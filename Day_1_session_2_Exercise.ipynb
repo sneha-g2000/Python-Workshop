{
  "nbformat": 4,
  "nbformat_minor": 0,
  "metadata": {
    "colab": {
      "name": "Day 1 session 2 Exercise.ipynb",
      "provenance": [],
      "authorship_tag": "ABX9TyOViP02oWTD04RkUTv3gVrp",
      "include_colab_link": true
    },
    "kernelspec": {
      "name": "python3",
      "display_name": "Python 3"
    }
  },
  "cells": [
    {
      "cell_type": "markdown",
      "metadata": {
        "id": "view-in-github",
        "colab_type": "text"
      },
      "source": [
        "<a href=\"https://colab.research.google.com/github/sneha-g2000/Python-Workshop/blob/master/Day_1_session_2_Exercise.ipynb\" target=\"_parent\"><img src=\"https://colab.research.google.com/assets/colab-badge.svg\" alt=\"Open In Colab\"/></a>"
      ]
    },
    {
      "cell_type": "markdown",
      "metadata": {
        "id": "swADBED8hMJV",
        "colab_type": "text"
      },
      "source": [
        "1 Write a program to print the triangle \n",
        "i/p  4\n",
        "\n",
        "1\n",
        "2    3\n",
        "3    4   5\n",
        "4    5   6   7\n"
      ]
    },
    {
      "cell_type": "code",
      "metadata": {
        "id": "csv-loyGhSPV",
        "colab_type": "code",
        "colab": {
          "base_uri": "https://localhost:8080/",
          "height": 101
        },
        "outputId": "ca4d2835-bca7-422d-f63a-8a73d5ea1261"
      },
      "source": [
        "n=4;\n",
        "for i in range(5):\n",
        "  k=i\n",
        "  for j in range(k):\n",
        "      print (k, end=\" \")\n",
        "      k=k+1\n",
        "  print('')"
      ],
      "execution_count": 1,
      "outputs": [
        {
          "output_type": "stream",
          "text": [
            "\n",
            "1 \n",
            "2 3 \n",
            "3 4 5 \n",
            "4 5 6 7 \n"
          ],
          "name": "stdout"
        }
      ]
    },
    {
      "cell_type": "markdown",
      "metadata": {
        "id": "syk1PmiPhp9X",
        "colab_type": "text"
      },
      "source": [
        "2 Enter number 4\n",
        "\n",
        "*\n",
        "* *\n",
        "* * *\n",
        "* * * *\n"
      ]
    },
    {
      "cell_type": "code",
      "metadata": {
        "id": "oi8yNvQ3huqe",
        "colab_type": "code",
        "colab": {
          "base_uri": "https://localhost:8080/",
          "height": 101
        },
        "outputId": "55aac89b-5dfc-44cd-8db7-e3e89a808c1a"
      },
      "source": [
        "n=5;\n",
        "for i in range(n):\n",
        "    for j in range(i):\n",
        "        print ('* ', end=\"\")\n",
        "    print('')"
      ],
      "execution_count": 2,
      "outputs": [
        {
          "output_type": "stream",
          "text": [
            "\n",
            "* \n",
            "* * \n",
            "* * * \n",
            "* * * * \n"
          ],
          "name": "stdout"
        }
      ]
    },
    {
      "cell_type": "markdown",
      "metadata": {
        "id": "Pl5PhLynh1Z-",
        "colab_type": "text"
      },
      "source": [
        "3 Enter number 5\n",
        "\n",
        "5\n",
        "4 5\n",
        "3 4 5\n",
        "2 3 4 5\n",
        "1 2 3 4 5\n",
        "\n"
      ]
    },
    {
      "cell_type": "code",
      "metadata": {
        "id": "R5i-TV0Eh6Iv",
        "colab_type": "code",
        "colab": {
          "base_uri": "https://localhost:8080/",
          "height": 101
        },
        "outputId": "b96cde7b-e2a2-434e-a771-80b4ef730df0"
      },
      "source": [
        "n=5;\n",
        "for i in range(n,0,-1):\n",
        "  for j in range(i,n+1):\n",
        "      print (j, end=' ')\n",
        "  print('')"
      ],
      "execution_count": 3,
      "outputs": [
        {
          "output_type": "stream",
          "text": [
            "5 \n",
            "4 5 \n",
            "3 4 5 \n",
            "2 3 4 5 \n",
            "1 2 3 4 5 \n"
          ],
          "name": "stdout"
        }
      ]
    },
    {
      "cell_type": "markdown",
      "metadata": {
        "id": "DfKITsGMiBYG",
        "colab_type": "text"
      },
      "source": [
        "4)  Enter number 5\n",
        "\n",
        "5 4 3 2 1\n",
        "4 3 2 1\n",
        "3 2 1\n",
        "2 1\n",
        "1\n"
      ]
    },
    {
      "cell_type": "code",
      "metadata": {
        "id": "ZoHXIOPYiMsu",
        "colab_type": "code",
        "colab": {
          "base_uri": "https://localhost:8080/",
          "height": 118
        },
        "outputId": "3eb34c63-6530-4a4a-93aa-352e67698cd1"
      },
      "source": [
        "n=5\n",
        "for i in range(0,n+1):\n",
        "  for j in range(n-i,0,-1):\n",
        "      print(j,end=\" \")\n",
        "  print()"
      ],
      "execution_count": 4,
      "outputs": [
        {
          "output_type": "stream",
          "text": [
            "5 4 3 2 1 \n",
            "4 3 2 1 \n",
            "3 2 1 \n",
            "2 1 \n",
            "1 \n",
            "\n"
          ],
          "name": "stdout"
        }
      ]
    },
    {
      "cell_type": "markdown",
      "metadata": {
        "id": "uPgz6UkdiWh_",
        "colab_type": "text"
      },
      "source": [
        "5) Enter number 4\n",
        "\n",
        "1 2 3 4\n",
        "2 3 4\n",
        "3 4\n",
        "4\n",
        "3 4\n",
        "2 3 4\n",
        "1 2 3 4\n"
      ]
    },
    {
      "cell_type": "code",
      "metadata": {
        "id": "njb1rrIXiiBf",
        "colab_type": "code",
        "colab": {
          "base_uri": "https://localhost:8080/",
          "height": 151
        },
        "outputId": "8f8d30c9-2645-4c4a-8f2a-af455c730e6c"
      },
      "source": [
        "n=4\n",
        "for i in range(0,n+1,1):\n",
        "  for j in range(i+1,n+1,1):\n",
        "    print(j,end=' ')\n",
        "  print()\n",
        "for i in range(4,n-3,-1):\n",
        "  for j in range(i-1,n+1,1):\n",
        "    print(j,end=' ')\n",
        "  print()"
      ],
      "execution_count": 5,
      "outputs": [
        {
          "output_type": "stream",
          "text": [
            "1 2 3 4 \n",
            "2 3 4 \n",
            "3 4 \n",
            "4 \n",
            "\n",
            "3 4 \n",
            "2 3 4 \n",
            "1 2 3 4 \n"
          ],
          "name": "stdout"
        }
      ]
    },
    {
      "cell_type": "markdown",
      "metadata": {
        "id": "HCytcGQjipmW",
        "colab_type": "text"
      },
      "source": [
        "6) Find the length of a string without using len functions"
      ]
    },
    {
      "cell_type": "code",
      "metadata": {
        "id": "Sj3VgkYCiwTF",
        "colab_type": "code",
        "colab": {
          "base_uri": "https://localhost:8080/",
          "height": 50
        },
        "outputId": "db0936db-7516-4f1d-944f-d9158e0e824b"
      },
      "source": [
        "str = input(\"Enter a string: \")\n",
        "counter = 0\n",
        "for s in str:\n",
        "      counter = counter+1\n",
        "print(\"Length of the input string is:\", counter)"
      ],
      "execution_count": 6,
      "outputs": [
        {
          "output_type": "stream",
          "text": [
            "Enter a string: school\n",
            "Length of the input string is: 6\n"
          ],
          "name": "stdout"
        }
      ]
    },
    {
      "cell_type": "markdown",
      "metadata": {
        "id": "i8iJRhsri5EO",
        "colab_type": "text"
      },
      "source": [
        "7) Find the no of words and characters in a string"
      ]
    },
    {
      "cell_type": "code",
      "metadata": {
        "id": "haXf_pA5i-Zf",
        "colab_type": "code",
        "colab": {
          "base_uri": "https://localhost:8080/",
          "height": 101
        },
        "outputId": "e48f1f5c-9c19-423a-ef5a-c47ceaafcf7f"
      },
      "source": [
        "string=input(\"Enter string:\")\n",
        "char=0\n",
        "word=1\n",
        "for i in string:\n",
        "      char=char+1\n",
        "      if(i==' '):\n",
        "            word=word+1\n",
        "print(\"Number of words in the string:\")\n",
        "print(word)\n",
        "print(\"Number of characters in the string:\")\n",
        "print(char)"
      ],
      "execution_count": 7,
      "outputs": [
        {
          "output_type": "stream",
          "text": [
            "Enter string: i am in class\n",
            "Number of words in the string:\n",
            "5\n",
            "Number of characters in the string:\n",
            "14\n"
          ],
          "name": "stdout"
        }
      ]
    },
    {
      "cell_type": "markdown",
      "metadata": {
        "id": "K0_cwJTCjVU3",
        "colab_type": "text"
      },
      "source": [
        "8) Find the no of occurrences of a word in a string\n",
        "\n"
      ]
    },
    {
      "cell_type": "code",
      "metadata": {
        "id": "tA4XF1pQjZ8f",
        "colab_type": "code",
        "colab": {
          "base_uri": "https://localhost:8080/",
          "height": 67
        },
        "outputId": "68648a7a-64aa-4806-e721-8611255b0880"
      },
      "source": [
        "def countOccurences(str, word): \n",
        "    a = str.split(\" \") \n",
        "    count = 0\n",
        "    for i in range(0, len(a)):  \n",
        "        if (word == a[i]): \n",
        "           count = count + 1\n",
        "             \n",
        "    return count        \n",
        "str =input(\"Enter the String\")\n",
        "word =input(\"Enter the word\")\n",
        "print(countOccurences(str, word))"
      ],
      "execution_count": 8,
      "outputs": [
        {
          "output_type": "stream",
          "text": [
            "Enter the Stringgeeks for geeks\n",
            "Enter the wordgeeks\n",
            "2\n"
          ],
          "name": "stdout"
        }
      ]
    }
  ]
}